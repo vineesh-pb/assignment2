{
 "cells": [
  {
   "cell_type": "code",
   "execution_count": 9,
   "id": "6bea7f18",
   "metadata": {},
   "outputs": [
    {
     "name": "stdout",
     "output_type": "stream",
     "text": [
      "The original list: [(1, 2), (2, 3), (5, 6), (5, 0)]\n",
      "The sorted list: [(5, 0), (1, 2), (2, 3), (5, 6)]\n"
     ]
    }
   ],
   "source": [
    "l=[(1,2),(2,3),(5,6),(5,0)]\n",
    "print(\"The original list:\",l)\n",
    "import operator\n",
    "l.sort(key=operator.itemgetter(1))\n",
    "print(\"The sorted list:\",l)\n",
    "\n",
    "    "
   ]
  },
  {
   "cell_type": "code",
   "execution_count": null,
   "id": "a69155d9",
   "metadata": {},
   "outputs": [],
   "source": []
  }
 ],
 "metadata": {
  "kernelspec": {
   "display_name": "Python 3",
   "language": "python",
   "name": "python3"
  },
  "language_info": {
   "codemirror_mode": {
    "name": "ipython",
    "version": 3
   },
   "file_extension": ".py",
   "mimetype": "text/x-python",
   "name": "python",
   "nbconvert_exporter": "python",
   "pygments_lexer": "ipython3",
   "version": "3.8.8"
  }
 },
 "nbformat": 4,
 "nbformat_minor": 5
}
